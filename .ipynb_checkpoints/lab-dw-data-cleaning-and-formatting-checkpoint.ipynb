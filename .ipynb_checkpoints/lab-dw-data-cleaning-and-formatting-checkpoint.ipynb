{
 "cells": [
  {
   "cell_type": "markdown",
   "id": "25d7736c-ba17-4aff-b6bb-66eba20fbf4e",
   "metadata": {
    "id": "25d7736c-ba17-4aff-b6bb-66eba20fbf4e"
   },
   "source": [
    "# Lab | Data Cleaning and Formatting"
   ]
  },
  {
   "cell_type": "markdown",
   "id": "d1973e9e-8be6-4039-b70e-d73ee0d94c99",
   "metadata": {
    "id": "d1973e9e-8be6-4039-b70e-d73ee0d94c99"
   },
   "source": [
    "In this lab, we will be working with the customer data from an insurance company, which can be found in the CSV file located at the following link: https://raw.githubusercontent.com/data-bootcamp-v4/data/main/file1.csv\n"
   ]
  },
  {
   "cell_type": "markdown",
   "id": "31b8a9e7-7db9-4604-991b-ef6771603e57",
   "metadata": {
    "id": "31b8a9e7-7db9-4604-991b-ef6771603e57"
   },
   "source": [
    "# Challenge 1: Data Cleaning and Formatting"
   ]
  },
  {
   "cell_type": "markdown",
   "id": "81553f19-9f2c-484b-8940-520aff884022",
   "metadata": {
    "id": "81553f19-9f2c-484b-8940-520aff884022"
   },
   "source": [
    "## Exercise 1: Cleaning Column Names"
   ]
  },
  {
   "cell_type": "markdown",
   "id": "34a929f4-1be4-4fa8-adda-42ffd920be90",
   "metadata": {
    "id": "34a929f4-1be4-4fa8-adda-42ffd920be90"
   },
   "source": [
    "To ensure consistency and ease of use, standardize the column names of the dataframe. Start by taking a first look at the dataframe and identifying any column names that need to be modified. Use appropriate naming conventions and make sure that column names are descriptive and informative.\n",
    "\n",
    "*Hint*:\n",
    "- *Column names should be in lower case*\n",
    "- *White spaces in column names should be replaced by `_`*\n",
    "- *`st` could be replaced for `state`*"
   ]
  },
  {
   "cell_type": "code",
   "execution_count": 27,
   "id": "5810735c-8056-4442-bbf2-dda38d3e284a",
   "metadata": {
    "id": "5810735c-8056-4442-bbf2-dda38d3e284a"
   },
   "outputs": [
    {
     "name": "stdout",
     "output_type": "stream",
     "text": [
      "DataFrame with new columns names :\n",
      "  customer       state gender             education customer_lifetime_value  \\\n",
      "0  RB50392  Washington    NaN                Master                     NaN   \n",
      "1  QZ44356     Arizona      F              Bachelor              697953.59%   \n",
      "2  AI49188      Nevada      F              Bachelor             1288743.17%   \n",
      "3  WW63253  California      M              Bachelor              764586.18%   \n",
      "4  GA49547  Washington      M  High School or Below              536307.65%   \n",
      "\n",
      "    income  monthly_premium_auto number_of_open_complaints     policy_type  \\\n",
      "0      0.0                1000.0                    1/0/00   Personal Auto   \n",
      "1      0.0                  94.0                    1/0/00   Personal Auto   \n",
      "2  48767.0                 108.0                    1/0/00   Personal Auto   \n",
      "3      0.0                 106.0                    1/0/00  Corporate Auto   \n",
      "4  36357.0                  68.0                    1/0/00   Personal Auto   \n",
      "\n",
      "   vehicle_class  total_claim_amount  \n",
      "0  Four-Door Car            2.704934  \n",
      "1  Four-Door Car         1131.464935  \n",
      "2   Two-Door Car          566.472247  \n",
      "3            SUV          529.881344  \n",
      "4  Four-Door Car           17.269323  \n"
     ]
    }
   ],
   "source": [
    "import pandas as pd\n",
    "\n",
    "url = 'https://raw.githubusercontent.com/data-bootcamp-v4/data/main/file1.csv'\n",
    "\n",
    "df_insurance= pd.read_csv(url)\n",
    "\n",
    "#1.Column names should be in lower case\n",
    "df_insurance.columns = df_insurance.columns.str.lower()\n",
    "\n",
    "#2.White spaces in column names should be replaced by _\n",
    "df_insurance.columns = df_insurance.columns.str.replace(' ', '_')\n",
    "\n",
    "# 3. st could be replaced for state\n",
    "df_insurance.rename(columns={'st': 'state'}, inplace=True)\n",
    "\n",
    "# Print new DF\n",
    "print(\"DataFrame with new columns names :\")\n",
    "print(df_insurance.head())"
   ]
  },
  {
   "cell_type": "markdown",
   "id": "9cb501ec-36ff-4589-b872-6252bb150316",
   "metadata": {
    "id": "9cb501ec-36ff-4589-b872-6252bb150316"
   },
   "source": [
    "## Exercise 2: Cleaning invalid Values"
   ]
  },
  {
   "cell_type": "markdown",
   "id": "a0b705c4-34a4-4956-917a-2342b34f60f7",
   "metadata": {
    "id": "771fdcf3-8e20-4b06-9c24-3a93ba2b0909"
   },
   "source": [
    "The dataset contains columns with inconsistent and incorrect values that could affect the accuracy of our analysis. Therefore, we need to clean these columns to ensure that they only contain valid data.\n",
    "\n",
    "Note that this exercise will focus only on cleaning inconsistent values and will not involve handling null values (NaN or None).\n",
    "\n",
    "*Hint*:\n",
    "- *Gender column contains various inconsistent values such as \"F\", \"M\", \"Femal\", \"Male\", \"female\", which need to be standardized, for example, to \"M\" and \"F\".*\n",
    "- *State abbreviations be can replaced with its full name, for example \"AZ\": \"Arizona\", \"Cali\": \"California\", \"WA\": \"Washington\"*\n",
    "- *In education, \"Bachelors\" could be replaced by \"Bachelor\"*\n",
    "- *In Customer Lifetime Value, delete the `%` character*"
   ]
  },
  {
   "cell_type": "markdown",
   "id": "f434bae3-62fc-4e4b-bb15-1017980ca56d",
   "metadata": {
    "id": "771fdcf3-8e20-4b06-9c24-3a93ba2b0909"
   },
   "source": [
    "- *In vehicle class, \"Sports Car\", \"Luxury SUV\" and \"Luxury Car\" could be replaced by \"Luxury\"*"
   ]
  },
  {
   "cell_type": "code",
   "execution_count": 41,
   "id": "ccc7d4ae-83d5-43d9-8bfb-03236fb5f5a6",
   "metadata": {},
   "outputs": [
    {
     "name": "stdout",
     "output_type": "stream",
     "text": [
      "Number of unique values before changing standardization of the values:\n",
      "[nan 'Female' 'Male']\n",
      "['Washington' 'Arizona' 'Nevada' 'California' 'Oregon' nan]\n",
      "float64\n"
     ]
    }
   ],
   "source": [
    "#NB of uniques values in gender and state\n",
    "print('Number of unique values before changing standardization of the values:')\n",
    "print(df_insurance['gender'].unique())\n",
    "print(df_insurance['state'].unique())\n"
   ]
  },
  {
   "cell_type": "code",
   "execution_count": 61,
   "id": "3f8ee5cb-50ab-48af-8a9f-9a389804033c",
   "metadata": {
    "id": "3f8ee5cb-50ab-48af-8a9f-9a389804033c"
   },
   "outputs": [
    {
     "name": "stdout",
     "output_type": "stream",
     "text": [
      "\n",
      "Values after standardization of the column Gender:\n",
      "[nan 'Female' 'Male']\n",
      "\n",
      "Values after standardization of the column State:\n",
      "['Washington' 'Arizona' 'Nevada' 'California' 'Oregon' nan]\n",
      "\n",
      "Values after standardization of the column Education:\n",
      "['Master' 'Bachelor' 'High School or Below' 'College' 'Doctor' nan]\n",
      "Data type 'customer_lifetime_value' before modification:\n",
      "float64\n",
      "Data type after the modification (from float to string):\n",
      "object\n",
      "\n",
      "Values after standardization of the column Customer Lifetime Value:\n",
      "[       nan  697953.59 1288743.17 ... 2031499.76  323912.47  899704.02]\n",
      "\n",
      "Valuesafter standardization of the column Vehicule class:\n",
      "['Four-Door Car' 'Two-Door Car' 'SUV' 'Luxury' nan]\n",
      "  customer       state  gender             education  customer_lifetime_value  \\\n",
      "0  RB50392  Washington     NaN                Master                      NaN   \n",
      "1  QZ44356     Arizona  Female              Bachelor                697953.59   \n",
      "2  AI49188      Nevada  Female              Bachelor               1288743.17   \n",
      "3  WW63253  California    Male              Bachelor                764586.18   \n",
      "4  GA49547  Washington    Male  High School or Below                536307.65   \n",
      "\n",
      "    income  monthly_premium_auto number_of_open_complaints     policy_type  \\\n",
      "0      0.0                1000.0                    1/0/00   Personal Auto   \n",
      "1      0.0                  94.0                    1/0/00   Personal Auto   \n",
      "2  48767.0                 108.0                    1/0/00   Personal Auto   \n",
      "3      0.0                 106.0                    1/0/00  Corporate Auto   \n",
      "4  36357.0                  68.0                    1/0/00   Personal Auto   \n",
      "\n",
      "   vehicle_class  total_claim_amount  \n",
      "0  Four-Door Car            2.704934  \n",
      "1  Four-Door Car         1131.464935  \n",
      "2   Two-Door Car          566.472247  \n",
      "3            SUV          529.881344  \n",
      "4  Four-Door Car           17.269323  \n"
     ]
    }
   ],
   "source": [
    "#1. Gender column contains various inconsistent values such as \"F\", \"M\", \"Femal\", \"Male\", \"female\", which need to be standardized\n",
    "  #Gender standardization\n",
    "gender_replacements = {\n",
    "    'F': 'Female',\n",
    "    'M': 'Male',\n",
    "    'Femal': 'Female',\n",
    "    'female': 'Female',\n",
    "    'Male': 'Male'\n",
    "}\n",
    "  #Gender remplacements\n",
    "df_insurance['gender'] = df_insurance['gender'].replace(gender_replacements)\n",
    "  #Print new gender\n",
    "print(\"\\nValues after standardization of the column Gender:\")\n",
    "print(df_insurance['gender'].unique())\n",
    "\n",
    "\n",
    "#2. State abbreviations be can replaced with its full name, for example \"AZ\": \"Arizona\", \"Cali\": \"California\", \"WA\": \"Washington\"\n",
    "  #Gender standardization\n",
    "state_replacements = {\n",
    "    'AZ': 'Arizona',\n",
    "    'Cali': 'California',\n",
    "    'WA': 'Washington'\n",
    "}\n",
    "  #State remplacements\n",
    "df_insurance['state'] = df_insurance['state'].replace(state_replacements)\n",
    "  #Print new gender\n",
    "print(\"\\nValues after standardization of the column State:\")\n",
    "print(df_insurance['state'].unique())\n",
    "\n",
    "\n",
    "#3. In education, \"Bachelors\" could be replaced by \"Bachelor\"\n",
    "  #Education remplacements\n",
    "df_insurance['education'] = df_insurance['education'].replace('Bachelors', 'Bachelor')\n",
    "  #Print new education\n",
    "print(\"\\nValues after standardization of the column Education:\")\n",
    "print(df_insurance['education'].unique())\n",
    "\n",
    "#4. In Customer Lifetime Value, delete the % character\n",
    "\n",
    "  #Datatype before deleting the %\n",
    "print(\"Data type 'customer_lifetime_value' before modification:\")\n",
    "print(df_insurance['customer_lifetime_value'].dtype)\n",
    "\n",
    "  #Modifying the data type (from float to string)\n",
    "df_insurance['customer_lifetime_value'] = df_insurance['customer_lifetime_value'].astype(str)\n",
    "print(\"Data type after the modification (from float to string):\")\n",
    "print(df_insurance['customer_lifetime_value'].dtype)\n",
    "\n",
    "  #Customer Lifetime Value remplacements and rechanging the data type (from string to float)\n",
    "df_insurance['customer_lifetime_value'] = df_insurance['customer_lifetime_value'].str.replace('%', '').astype(float)\n",
    "\n",
    "# Print new 'Customer Lifetime Value' after modifications\n",
    "print(\"\\nValues after standardization of the column Customer Lifetime Value:\")\n",
    "print(df_insurance['customer_lifetime_value'].unique())\n",
    "\n",
    "\n",
    "#5. In vehicle class, \"Sports Car\", \"Luxury SUV\" and \"Luxury Car\" could be replaced by \"Luxury\"\n",
    "\n",
    "  #Vehicle classs standardization\n",
    "vehicle_class_replacements = {\n",
    "    'Sports Car': 'Luxury',\n",
    "    'Luxury SUV': 'Luxury',\n",
    "    'Luxury Car': 'Luxury'\n",
    "}\n",
    "\n",
    " #Vehicle class remplacements\n",
    "df_insurance['vehicle_class'] = df_insurance['vehicle_class'].replace(vehicle_class_replacements)\n",
    "\n",
    "  #Print new values in column vehicle class\n",
    "print(\"\\nValuesafter standardization of the column Vehicule class:\")\n",
    "print(df_insurance['vehicle_class'].unique())\n",
    "\n",
    "\n",
    "  #Print new DF\n",
    "print(df_insurance.head())"
   ]
  },
  {
   "cell_type": "markdown",
   "id": "85ff78ce-0174-4890-9db3-8048b7d7d2d0",
   "metadata": {
    "id": "85ff78ce-0174-4890-9db3-8048b7d7d2d0"
   },
   "source": [
    "## Exercise 3: Formatting data types"
   ]
  },
  {
   "cell_type": "markdown",
   "id": "b91c2cf8-79a2-4baf-9f65-ff2fb22270bd",
   "metadata": {
    "id": "b91c2cf8-79a2-4baf-9f65-ff2fb22270bd"
   },
   "source": [
    "The data types of many columns in the dataset appear to be incorrect. This could impact the accuracy of our analysis. To ensure accurate analysis, we need to correct the data types of these columns. Please update the data types of the columns as appropriate."
   ]
  },
  {
   "cell_type": "markdown",
   "id": "43e5d853-ff9e-43b2-9d92-aef2f78764f3",
   "metadata": {
    "id": "43e5d853-ff9e-43b2-9d92-aef2f78764f3"
   },
   "source": [
    "It is important to note that this exercise does not involve handling null values (NaN or None)."
   ]
  },
  {
   "cell_type": "markdown",
   "id": "329ca691-9196-4419-8969-3596746237a1",
   "metadata": {
    "id": "329ca691-9196-4419-8969-3596746237a1"
   },
   "source": [
    "*Hint*:\n",
    "- *Customer lifetime value should be numeric*\n",
    "- *Number of open complaints has an incorrect format. Look at the different values it takes with `unique()` and take the middle value. As an example, 1/5/00 should be 5. Number of open complaints is a string - remember you can use `split()` to deal with it and take the number you need. Finally, since it should be numeric, cast the column to be in its proper type.*"
   ]
  },
  {
   "cell_type": "code",
   "execution_count": 99,
   "id": "eb8f5991-73e9-405f-bf1c-6b7c589379a9",
   "metadata": {
    "id": "eb8f5991-73e9-405f-bf1c-6b7c589379a9"
   },
   "outputs": [
    {
     "name": "stdout",
     "output_type": "stream",
     "text": [
      "\n",
      "Data type for Number of Open Complaints after modificatons :\n",
      "int64\n",
      "Example of the values stored in the column Number of Open Complaints after modifications:\n",
      "0    0\n",
      "1    0\n",
      "2    0\n",
      "3    0\n",
      "4    0\n",
      "Name: number_of_open_complaints, dtype: int64\n"
     ]
    }
   ],
   "source": [
    "#Changing the data type of the colomun Customer lifetime value  (its already in float ???? Its not necessary to convert this column)\n",
    "  #Check actual data type\n",
    "if df_insurance['customer_lifetime_value'].dtype == 'float64':\n",
    "    print(\"\\nCustomer Lifetime Value is already in numerical format.\")\n",
    "\n",
    "\n",
    "#Changing the format of Number of open complaints\n",
    "\n",
    "  #Replacing the value \"nan\" by 0/0/0\n",
    "df_insurance['number_of_open_complaints'] = df_insurance['number_of_open_complaints'].fillna('0/0/0')\n",
    "\n",
    "  #chaging the data type from object to string\n",
    "df_insurance['number_of_open_complaints'] = df_insurance['number_of_open_complaints'].astype(str)\n",
    "\n",
    "  #removing the slash: (préciser le fonctionnement)\n",
    "df_insurance['number_of_open_complaints'] = df_insurance['number_of_open_complaints'].str.split('/').str[1]\n",
    "\n",
    "  ##chaging the data type from string to integer\n",
    "df_insurance['number_of_open_complaints'] = df_insurance['number_of_open_complaints'].fillna('0').astype(int)\n",
    "\n",
    "  #print the data type print the head after modifcations\n",
    "print(\"\\nData type for Number of Open Complaints after modificatons :\")\n",
    "print(df_insurance['number_of_open_complaints'].dtype)\n",
    "\n",
    "  #print the head after modifcations\n",
    "print(\"Example of the values stored in the column Number of Open Complaints after modifications:\")\n",
    "print(df_insurance['number_of_open_complaints'].head())\n",
    "\n",
    "\n",
    "#print(\"The data type of Number of Open Complaints is:\")\n",
    "#print(df_insurance['number_of_open_complaints'].dtype)\n",
    "#print(\"Example of values in Number of Complaints:\")\n",
    "#print(df_insurance['number_of_open_complaints'].unique())\n",
    "\n",
    " #Changing \"nan\" by another value (0/0/0), change the format of Number of open complaints and convert the data type (from str to integer)\n",
    "#df_insurance['number_of_open_complaints'] = df_insurance['number_of_open_complaints'].fillna('0/0/0')\n",
    "#df_insurance['number_of_open_complaints'] = df_insurance['number_of_open_complaints'].astype(str)\n",
    "#df_insurance['number_of_open_complaints'] = df_insurance['number_of_open_complaints'].str.split('/').str[1].astype(int)\n",
    "\n",
    " #Check the new format and data type\n",
    "#print(\"\\nData type of 'Number of Open Complaints' after modification :\")\n",
    "#print(df['number_of_open_complaints'].dtype)\n",
    "#print(\"Example of values 'Number of Open Complaints' after modification :\")\n",
    "#print(df['number_of_open_complaints'].head())\n"
   ]
  },
  {
   "cell_type": "markdown",
   "id": "14c52e28-2d0c-4dd2-8bd5-3476e34fadc1",
   "metadata": {
    "id": "14c52e28-2d0c-4dd2-8bd5-3476e34fadc1"
   },
   "source": [
    "## Exercise 4: Dealing with Null values"
   ]
  },
  {
   "cell_type": "markdown",
   "id": "34b9a20f-7d32-4417-975e-1b4dfb0e16cd",
   "metadata": {
    "id": "34b9a20f-7d32-4417-975e-1b4dfb0e16cd"
   },
   "source": [
    "Identify any columns with null or missing values. Identify how many null values each column has. You can use the `isnull()` function in pandas to find columns with null values.\n",
    "\n",
    "Decide on a strategy for handling the null values. There are several options, including:\n",
    "\n",
    "- Drop the rows or columns with null values\n",
    "- Fill the null values with a specific value (such as the column mean or median for numerical variables, and mode for categorical variables)\n",
    "- Fill the null values with the previous or next value in the column\n",
    "- Fill the null values based on a more complex algorithm or model (note: we haven't covered this yet)\n",
    "\n",
    "Implement your chosen strategy to handle the null values. You can use the `fillna()` function in pandas to fill null values or `dropna()` function to drop null values.\n",
    "\n",
    "Verify that your strategy has successfully handled the null values. You can use the `isnull()` function again to check if there are still null values in the dataset.\n",
    "\n",
    "Remember to document your process and explain your reasoning for choosing a particular strategy for handling null values.\n",
    "\n",
    "After formatting data types, as a last step, convert all the numeric variables to integers."
   ]
  },
  {
   "cell_type": "code",
   "execution_count": 113,
   "id": "5d814828-6a5f-4f23-b20e-443e1f3a69b6",
   "metadata": {},
   "outputs": [
    {
     "name": "stdout",
     "output_type": "stream",
     "text": [
      "Null values before filling :\n",
      "customer                     0\n",
      "state                        0\n",
      "gender                       0\n",
      "education                    0\n",
      "customer_lifetime_value      0\n",
      "income                       0\n",
      "monthly_premium_auto         0\n",
      "number_of_open_complaints    0\n",
      "policy_type                  0\n",
      "vehicle_class                0\n",
      "total_claim_amount           0\n",
      "dtype: int64\n"
     ]
    }
   ],
   "source": [
    "print(\"Null values before filling :\")\n",
    "print(df_insurance.isnull().sum())"
   ]
  },
  {
   "cell_type": "code",
   "execution_count": 115,
   "id": "f184fc35-7831-4836-a0a5-e7f99e01b40e",
   "metadata": {
    "id": "f184fc35-7831-4836-a0a5-e7f99e01b40e"
   },
   "outputs": [
    {
     "ename": "SyntaxError",
     "evalue": "invalid syntax (200715723.py, line 11)",
     "output_type": "error",
     "traceback": [
      "\u001b[0;36m  Cell \u001b[0;32mIn[115], line 11\u001b[0;36m\u001b[0m\n\u001b[0;31m    ------\u001b[0m\n\u001b[0m          ^\u001b[0m\n\u001b[0;31mSyntaxError\u001b[0m\u001b[0;31m:\u001b[0m invalid syntax\n"
     ]
    }
   ],
   "source": [
    "#Supprimez les lignes ou les colonnes avec des valeurs nulles\n",
    "#Remplissez les valeurs nulles avec une valeur spécifique\n",
    "#ex: \n",
    "#moyenne ou mediane pour les variables numériques\n",
    "#mode pour les variables catégorielle\n",
    "\n",
    "#Implémentez la stratégie que vous avez choisie pour gérer les valeurs nulles. \n",
    "#Vous pouvez utiliser la fonction fillna() dans pandas pour remplir les valeurs\n",
    "\n",
    "#Contexte: I've chose to fill the empty values with mean or median for numerical values, and mode for categorical variables\n",
    "------\n",
    "#1. Identify the columns with null values \n",
    "print(\"Null values before filling :\")\n",
    "print(df_insurance.isnull().sum())\n",
    "\n",
    "# Dtermine numerical and categorical variables (if data type is float or interger --> numerical, and if data type is object --> categorical)\n",
    "num_cols = df_insurance.select_dtypes(include=['float64', 'int64']).columns\n",
    "cat_cols = df_insurance.select_dtypes(include=['object']).columns\n",
    "\n",
    "# Étape 2 et 3 : Gérer les Valeurs Nulles\n",
    "# Pour les colonnes numériques, remplir avec la moyenne\n",
    "for col in num_cols:\n",
    "    df_insurance[col] = df_insurance[col].fillna(df_insurance[col].mean())\n",
    "\n",
    "# Pour les colonnes catégorielles, remplir avec le mode\n",
    "for col in cat_cols:\n",
    "    df_insurance[col] = df_insurance[col].fillna(df_insurance[col].mode()[0])\n",
    "\n",
    "# Étape 4 : Vérifier que les Valeurs Nulles ont été Correctement Gérées\n",
    "print(\"\\nNull values after filling :\")\n",
    "print(df_insurance.isnull().sum())\n",
    "\n",
    "# Étape 5 : Convertir Toutes les Variables Numériques en Nombres Entiers\n",
    "for col in num_cols:\n",
    "    df_insurance[col] = df_insurance[col].astype(int)\n",
    "\n",
    "print(\"\\nAperçu des données après conversion des colonnes numériques en entiers :\")\n",
    "print(df_insurance.head())\n",
    "\n",
    "# Vérifier le type de données de chaque colonne\n",
    "print(\"\\nTypes de données des colonnes après conversion :\")\n",
    "print(df_insurance.dtypes)\n",
    "\n"
   ]
  },
  {
   "cell_type": "code",
   "execution_count": null,
   "id": "483be6c8-ba17-4214-bb32-54ce1fe348a6",
   "metadata": {},
   "outputs": [],
   "source": []
  },
  {
   "cell_type": "code",
   "execution_count": null,
   "id": "6ffca19a-8857-4fa2-b479-fe6e124c5dd9",
   "metadata": {},
   "outputs": [],
   "source": [
    "\n"
   ]
  },
  {
   "cell_type": "markdown",
   "id": "98416351-e999-4156-9834-9b00a311adfa",
   "metadata": {
    "id": "98416351-e999-4156-9834-9b00a311adfa"
   },
   "source": [
    "## Exercise 5: Dealing with duplicates"
   ]
  },
  {
   "cell_type": "markdown",
   "id": "ea0816a7-a18e-4d4c-b667-a8452a800bd1",
   "metadata": {
    "id": "ea0816a7-a18e-4d4c-b667-a8452a800bd1"
   },
   "source": [
    "Use the `.duplicated()` method to identify any duplicate rows in the dataframe.\n",
    "\n",
    "Decide on a strategy for handling the duplicates. Options include:\n",
    "- Dropping all duplicate rows\n",
    "- Keeping only the first occurrence of each duplicated row\n",
    "- Keeping only the last occurrence of each duplicated row\n",
    "- Dropping duplicates based on a subset of columns\n",
    "- Dropping duplicates based on a specific column\n",
    "\n",
    "Implement your chosen strategy using the `drop_duplicates()` function.\n",
    "\n",
    "Verify that your strategy has successfully handled the duplicates by checking for duplicates again using `.duplicated()`.\n",
    "\n",
    "Remember to document your process and explain your reasoning for choosing a particular strategy for handling duplicates.\n",
    "\n",
    "Save the cleaned dataset to a new CSV file.\n",
    "\n",
    "*Hint*: *after dropping duplicates, reset the index to ensure consistency*."
   ]
  },
  {
   "cell_type": "code",
   "execution_count": 114,
   "id": "1929362c-47ed-47cb-baca-358b78d401a0",
   "metadata": {
    "id": "1929362c-47ed-47cb-baca-358b78d401a0"
   },
   "outputs": [
    {
     "name": "stdout",
     "output_type": "stream",
     "text": [
      "Nombre de doublons avant traitement :\n",
      "2936\n",
      "\n",
      "Exemples de lignes en double :\n",
      "     customer       state  gender education  customer_lifetime_value  income  \\\n",
      "1072  AA71604  California  Female  Bachelor                   793690   39295   \n",
      "1073  AA71604  California  Female  Bachelor                   793690   39295   \n",
      "1074  AA71604  California  Female  Bachelor                   793690   39295   \n",
      "1075  AA71604  California  Female  Bachelor                   793690   39295   \n",
      "1076  AA71604  California  Female  Bachelor                   793690   39295   \n",
      "\n",
      "      monthly_premium_auto  number_of_open_complaints    policy_type  \\\n",
      "1072                   193                          0  Personal Auto   \n",
      "1073                   193                          0  Personal Auto   \n",
      "1074                   193                          0  Personal Auto   \n",
      "1075                   193                          0  Personal Auto   \n",
      "1076                   193                          0  Personal Auto   \n",
      "\n",
      "      vehicle_class  total_claim_amount  \n",
      "1072  Four-Door Car                 404  \n",
      "1073  Four-Door Car                 404  \n",
      "1074  Four-Door Car                 404  \n",
      "1075  Four-Door Car                 404  \n",
      "1076  Four-Door Car                 404  \n",
      "\n",
      "Nombre de doublons après traitement :\n",
      "0\n",
      "\n",
      "DataFrame nettoyé sauvegardé dans 'cleaned_insurance_data.csv'.\n",
      "\n",
      "Premières lignes du DataFrame nettoyé :\n",
      "  customer       state  gender             education  customer_lifetime_value  \\\n",
      "0  RB50392  Washington  Female                Master                   793690   \n",
      "1  QZ44356     Arizona  Female              Bachelor                   697953   \n",
      "2  AI49188      Nevada  Female              Bachelor                  1288743   \n",
      "3  WW63253  California    Male              Bachelor                   764586   \n",
      "4  GA49547  Washington    Male  High School or Below                   536307   \n",
      "\n",
      "   income  monthly_premium_auto  number_of_open_complaints     policy_type  \\\n",
      "0       0                  1000                          0   Personal Auto   \n",
      "1       0                    94                          0   Personal Auto   \n",
      "2   48767                   108                          0   Personal Auto   \n",
      "3       0                   106                          0  Corporate Auto   \n",
      "4   36357                    68                          0   Personal Auto   \n",
      "\n",
      "   vehicle_class  total_claim_amount  \n",
      "0  Four-Door Car                   2  \n",
      "1  Four-Door Car                1131  \n",
      "2   Two-Door Car                 566  \n",
      "3            SUV                 529  \n",
      "4  Four-Door Car                  17  \n"
     ]
    }
   ],
   "source": [
    "# Étape 1 : Identifier les lignes en double\n",
    "print(\"Nombre de doublons avant traitement :\")\n",
    "print(df_insurance.duplicated().sum())\n",
    "\n",
    "# Afficher quelques exemples de lignes en double\n",
    "print(\"\\nExemples de lignes en double :\")\n",
    "print(df_insurance[df_insurance.duplicated()].head())\n",
    "\n",
    "# Étape 2 : Choisir une stratégie pour gérer les doublons\n",
    "# Pour cet exemple, nous allons supprimer toutes les lignes en double\n",
    "\n",
    "# Étape 3 : Implémenter la stratégie choisie\n",
    "df_insurance_cleaned = df_insurance.drop_duplicates()\n",
    "\n",
    "# Réinitialiser l'index pour assurer la cohérence\n",
    "df_insurance_cleaned.reset_index(drop=True, inplace=True)\n",
    "\n",
    "# Étape 4 : Vérifier que les doublons ont été correctement gérés\n",
    "print(\"\\nNombre de doublons après traitement :\")\n",
    "print(df_insurance_cleaned.duplicated().sum())\n",
    "\n",
    "# Étape 5 : Enregistrer le DataFrame nettoyé dans un nouveau fichier CSV\n",
    "cleaned_file_path = 'cleaned_insurance_data.csv'\n",
    "df_insurance_cleaned.to_csv(cleaned_file_path, index=False)\n",
    "\n",
    "print(f\"\\nDataFrame nettoyé sauvegardé dans '{cleaned_file_path}'.\")\n",
    "\n",
    "# Afficher les premières lignes du DataFrame nettoyé\n",
    "print(\"\\nPremières lignes du DataFrame nettoyé :\")\n",
    "print(df_insurance_cleaned.head())\n"
   ]
  },
  {
   "cell_type": "markdown",
   "id": "60840701-4783-40e2-b4d8-55303f9100c9",
   "metadata": {
    "id": "60840701-4783-40e2-b4d8-55303f9100c9"
   },
   "source": [
    "# Bonus: Challenge 2: creating functions on a separate `py` file"
   ]
  },
  {
   "cell_type": "markdown",
   "id": "9d1adb3a-17cf-4899-8041-da21a4337fb4",
   "metadata": {
    "id": "9d1adb3a-17cf-4899-8041-da21a4337fb4"
   },
   "source": [
    "Put all the data cleaning and formatting steps into functions, and create a main function that performs all the cleaning and formatting.\n",
    "\n",
    "Write these functions in separate .py file(s). By putting these steps into functions, we can make the code more modular and easier to maintain."
   ]
  },
  {
   "cell_type": "markdown",
   "id": "0e170dc2-b62c-417a-8248-e63ed18a70c4",
   "metadata": {
    "id": "0e170dc2-b62c-417a-8248-e63ed18a70c4"
   },
   "source": [
    "*Hint: autoreload module is a utility module in Python that allows you to automatically reload modules in the current session when changes are made to the source code. This can be useful in situations where you are actively developing code and want to see the effects of changes you make without having to constantly restart the Python interpreter or Jupyter Notebook kernel.*"
   ]
  },
  {
   "cell_type": "code",
   "execution_count": null,
   "id": "a52c6dfc-cd11-4d01-bda4-f719fa33e9a4",
   "metadata": {
    "id": "a52c6dfc-cd11-4d01-bda4-f719fa33e9a4"
   },
   "outputs": [],
   "source": [
    "# Your code here"
   ]
  },
  {
   "cell_type": "markdown",
   "id": "80f846bb-3f5e-4ca2-96c0-900728daca5a",
   "metadata": {
    "id": "80f846bb-3f5e-4ca2-96c0-900728daca5a",
    "tags": []
   },
   "source": [
    "# Bonus: Challenge 3: Analyzing Clean and Formated Data"
   ]
  },
  {
   "cell_type": "markdown",
   "id": "9021630e-cc90-446c-b5bd-264d6c864207",
   "metadata": {
    "id": "9021630e-cc90-446c-b5bd-264d6c864207"
   },
   "source": [
    "You have been tasked with analyzing the data to identify potential areas for improving customer retention and profitability. Your goal is to identify customers with a high policy claim amount and a low customer lifetime value.\n",
    "\n",
    "In the Pandas Lab, we only looked at high policy claim amounts because we couldn't look into low customer lifetime values. If we had tried to work with that column, we wouldn't have been able to because customer lifetime value wasn't clean and in its proper format. So after cleaning and formatting the data, let's get some more interesting insights!\n",
    "\n",
    "Instructions:\n",
    "\n",
    "- Review the statistics again for total claim amount and customer lifetime value to gain an understanding of the data.\n",
    "- To identify potential areas for improving customer retention and profitability, we want to focus on customers with a high policy claim amount and a low customer lifetime value. Consider customers with a high policy claim amount to be those in the top 25% of the total claim amount, and clients with a low customer lifetime value to be those in the bottom 25% of the customer lifetime value. Create a pandas DataFrame object that contains information about customers with a policy claim amount greater than the 75th percentile and a customer lifetime value in the bottom 25th percentile.\n",
    "- Use DataFrame methods to calculate summary statistics about the high policy claim amount and low customer lifetime value data. To do so, select both columns of the dataframe simultaneously and pass it to the `.describe()` method. This will give you descriptive statistics, such as mean, median, standard deviation, minimum and maximum values for both columns at the same time, allowing you to compare and analyze their characteristics."
   ]
  },
  {
   "cell_type": "code",
   "execution_count": null,
   "id": "211e82b5-461a-4d6f-8a23-4deccb84173c",
   "metadata": {
    "id": "211e82b5-461a-4d6f-8a23-4deccb84173c"
   },
   "outputs": [],
   "source": [
    "# Your code here"
   ]
  }
 ],
 "metadata": {
  "colab": {
   "provenance": []
  },
  "kernelspec": {
   "display_name": "Python 3 (ipykernel)",
   "language": "python",
   "name": "python3"
  },
  "language_info": {
   "codemirror_mode": {
    "name": "ipython",
    "version": 3
   },
   "file_extension": ".py",
   "mimetype": "text/x-python",
   "name": "python",
   "nbconvert_exporter": "python",
   "pygments_lexer": "ipython3",
   "version": "3.11.7"
  }
 },
 "nbformat": 4,
 "nbformat_minor": 5
}
